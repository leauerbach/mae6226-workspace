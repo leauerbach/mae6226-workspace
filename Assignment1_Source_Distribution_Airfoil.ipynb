{
 "cells": [
  {
   "cell_type": "code",
   "execution_count": 19,
   "metadata": {
    "collapsed": true
   },
   "outputs": [],
   "source": [
    "import numpy\n",
    "import math\n",
    "from matplotlib import pyplot\n",
    "\n",
    "%matplotlib inline"
   ]
  },
  {
   "cell_type": "code",
   "execution_count": 9,
   "metadata": {
    "collapsed": true
   },
   "outputs": [],
   "source": [
    "N = 51\n",
    "x_start, x_end = -2.0, 1.0\n",
    "y_start, y_end = -0.5, 0.5\n",
    "x = numpy.linspace(x_start,x_end,N)\n",
    "y = numpy.linspace(y_start,y_end,N)\n",
    "X, Y = numpy.meshgrid(x,y)"
   ]
  },
  {
   "cell_type": "code",
   "execution_count": 13,
   "metadata": {
    "collapsed": false
   },
   "outputs": [],
   "source": [
    "NACAx = numpy.loadtxt(\"NACA0012_x.txt\")\n",
    "NACAy = numpy.loadtxt(\"NACA0012_y.txt\")\n",
    "NACAsig = numpy.loadtxt(\"NACA0012_sigma.txt\")"
   ]
  },
  {
   "cell_type": "code",
   "execution_count": 18,
   "metadata": {
    "collapsed": false
   },
   "outputs": [],
   "source": [
    "u_inf = 1.0\n",
    "\n",
    "u_freestream = u_inf*numpy.ones((N,N),dtype=float)\n",
    "v_freestream = numpy.zeros((N,N),dtype=float)\n",
    "\n",
    "psi_freestream = u_inf*Y"
   ]
  },
  {
   "cell_type": "code",
   "execution_count": null,
   "metadata": {
    "collapsed": true
   },
   "outputs": [],
   "source": []
  }
 ],
 "metadata": {
  "anaconda-cloud": {},
  "kernelspec": {
   "display_name": "Python [conda root]",
   "language": "python",
   "name": "conda-root-py"
  },
  "language_info": {
   "codemirror_mode": {
    "name": "ipython",
    "version": 3
   },
   "file_extension": ".py",
   "mimetype": "text/x-python",
   "name": "python",
   "nbconvert_exporter": "python",
   "pygments_lexer": "ipython3",
   "version": "3.5.2"
  }
 },
 "nbformat": 4,
 "nbformat_minor": 1
}
