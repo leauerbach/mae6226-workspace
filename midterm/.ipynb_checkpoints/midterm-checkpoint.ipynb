{
 "cells": [
  {
   "cell_type": "markdown",
   "metadata": {},
   "source": [
    "# Karman-Trefftz airfoil"
   ]
  },
  {
   "cell_type": "markdown",
   "metadata": {},
   "source": [
    "For the second assignment of this class, you have used the Joukowski transformation, a conformal map that shapes a cylinder into an airfoil with a cusp at the trailing edge.\n",
    "\n",
    "Here, we are going to use another conformal map: the Karman-Trefftz transform.\n",
    "This transform allows us to represent the potential flow around a class of airfoils with a non-zero tail angle at the trailing edge known as Karman-Trefftz airfoils.\n",
    "\n",
    "\n",
    "**Some recommendations**:\n",
    "\n",
    "During this exam, you will have to write functions in Python.\n",
    "Remember, docstrings are cool, they document your functions and help users to understand them.\n",
    "\n",
    "You will also create some figures.\n",
    "Make sure they are generated with a publication-quality, that is, the presence of a title or caption, axis labels, and legend (when necessary).\n",
    "\n",
    "For figures including a filled contour, we recommend the use of the 'viridis' colormap over the usual 'jet'; the last one is not perfectly perceptually-uniform."
   ]
  },
  {
   "cell_type": "code",
   "execution_count": 2,
   "metadata": {
    "collapsed": true
   },
   "outputs": [],
   "source": [
    "import numpy\n",
    "import math\n",
    "from matplotlib import pyplot\n",
    "\n",
    "%matplotlib inline"
   ]
  },
  {
   "cell_type": "markdown",
   "metadata": {},
   "source": [
    "---\n",
    "\n",
    "## First part - Karman-Trefftz conformal mapping\n",
    "\n",
    "---"
   ]
  },
  {
   "cell_type": "markdown",
   "metadata": {},
   "source": [
    "### Conformal mapping\n",
    "\n",
    "The Karman-Trefftz transformation maps a cylinder (defined in the $\\xi$-plane) to an airfoil ($z$-plane) that possesses a non-zero tail angle at the trailing edge.\n",
    "\n",
    "$$z = n \\frac{\\left(1 + \\frac{b^2}{\\xi}\\right)^n + \\left(1 - \\frac{b^2}{\\xi}\\right)^n}{\\left(1 + \\frac{b^2}{\\xi}\\right)^n - \\left(1 - \\frac{b^2}{\\xi}\\right)^n}$$\n",
    "\n",
    "where $n = 2 - \\frac{\\theta}{\\pi}$, $\\theta$ being the tail angle (in radians) at the trailing edge and $b$ a parameter that controls the thickness of the airfoil.\n",
    "\n",
    "Note that when we choose a zero tail-angle, the Karman-Trefftz transform reduces to the Joukowski transform.\n",
    "\n",
    "First, we need to create the conformal mapping between the $\\xi$-plane of the cylinder and the $z$-plane of the airfoil.\n",
    "\n",
    "**List of tasks:**\n",
    "\n",
    "1- Write a function for the conformal mapping that takes the complex coordinates in the $\\xi$-plane as an argument and returns the the comlpex coordinates in the $z$-plane.\n",
    "\n",
    "To check your function, here is what we obtained:\n",
    "the point $2.2 + 2.2j$ maps into the point $2.41874477821 + 1.98092269337j$ when using $b=1$ and $theta=5^o$."
   ]
  },
  {
   "cell_type": "code",
   "execution_count": 3,
   "metadata": {
    "collapsed": false
   },
   "outputs": [],
   "source": [
    "def kt_map(theta,b,xi):\n",
    "    \"\"\"\n",
    "    Returns Karman-Trefftz transformation of a point from the xi-plane to the z-plane\n",
    "    \n",
    "    Parameters\n",
    "    ----------\n",
    "    theta: float\n",
    "        tail angle (in radians) at the trailing edge\n",
    "    b: float\n",
    "        paramter that controls the thickness of the airfoil\n",
    "    xi: complex\n",
    "        coordinates in the xi-plane\n",
    "        \n",
    "    Returns\n",
    "    -------\n",
    "    z: complex\n",
    "    \"\"\"\n",
    "    n = 2 - theta/math.pi\n",
    "    z = n*((1+b**2/xi)**n + (1-b**2/xi)**n)/((1+b**2/xi)**n - (1-b**2/xi)**n)\n",
    "    \n",
    "    return z"
   ]
  },
  {
   "cell_type": "code",
   "execution_count": 5,
   "metadata": {
    "collapsed": false
   },
   "outputs": [
    {
     "name": "stdout",
     "output_type": "stream",
     "text": [
      "(2.4187447782142586+1.980922693367887j)\n"
     ]
    }
   ],
   "source": [
    "theta = math.radians(5)\n",
    "b = 1\n",
    "xi = 2.2 + 2.2*1j\n",
    "z = kt_map(theta,b,xi)\n",
    "print(z)"
   ]
  },
  {
   "cell_type": "markdown",
   "metadata": {},
   "source": [
    "---"
   ]
  },
  {
   "cell_type": "markdown",
   "metadata": {},
   "source": [
    "### From a cylinder  to an airfoil\n",
    "\n",
    "Let's use our new function to map a cylinder into a Karman-Trefftz airfoil.\n",
    "\n",
    "**List of tasks:**\n",
    "\n",
    "1- Create a cylinder centered at $\\left(x_c, y_c\\right)$ with radius $R = \\sqrt{\\left(b-x_c\\right)^2 + y_c^2}$ with $N$ points on its surface where the first and last points overlap.\n",
    "\n",
    "Use the following parameters:\n",
    "* $x_c = -0.1$, $y_c = 0.1$\n",
    "* $b = 1.0$\n",
    "* $\\theta = 5^o$\n",
    "* $N = 61$\n",
    "\n",
    "2- Apply the Karman-Trefftz transformation using the function you previously defined to get the complex coordinates of the cambered airfoil.\n",
    "\n",
    "3- Plot the two geometries on a figure.\n",
    "\n",
    "4- What is the index and coordinates of the trailing-edge point?\n",
    "\n",
    "5- What is the location of the first point on the airfoil?"
   ]
  },
  {
   "cell_type": "code",
   "execution_count": 17,
   "metadata": {
    "collapsed": false
   },
   "outputs": [
    {
     "name": "stdout",
     "output_type": "stream",
     "text": [
      "The index of the trailing edge point is (array([59]),)\n"
     ]
    },
    {
     "data": {
      "image/png": "[encoded data removed]",
      "text/plain": [
       "<matplotlib.figure.Figure at 0x7fafcc01bc18>"
      ]
     },
     "metadata": {},
     "output_type": "display_data"
    }
   ],
   "source": [
    "# Task 1\n",
    "xc = -0.1\n",
    "yc = 0.1\n",
    "b = 1.0\n",
    "R = math.sqrt((b-xc)**2 + yc**2)\n",
    "\n",
    "N = 61\n",
    "theta = numpy.linspace(0,2*math.pi,N)\n",
    "\n",
    "cyl_xi = R*numpy.cos(theta) + xc + (R*numpy.sin(theta) + yc)*1j\n",
    "\n",
    "# Task 2\n",
    "theta_t = math.radians(5) #tail angle for transformation\n",
    "z = kt_map(theta_t,b,cyl_xi)\n",
    "\n",
    "# Task 3\n",
    "size = 5\n",
    "pyplot.figure(figsize=(2*size,size))\n",
    "pyplot.subplot(121)\n",
    "pyplot.xlim(-3.0,3.0)\n",
    "pyplot.ylim(-3.0,3.0)\n",
    "pyplot.xlabel('Real',fontsize=16)\n",
    "pyplot.ylabel('Imaginary',fontsize=16)\n",
    "pyplot.title(r'$\\xi$-plane',fontsize=20,fontweight='bold')\n",
    "pyplot.grid(True)\n",
    "pyplot.plot(cyl_xi.real,cyl_xi.imag);\n",
    "\n",
    "pyplot.subplot(122)\n",
    "pyplot.xlim(-3.0,3.0)\n",
    "pyplot.ylim(-3.0,3.0)\n",
    "pyplot.xlabel('Real',fontsize=16)\n",
    "pyplot.ylabel('Imaginary',fontsize=16)\n",
    "pyplot.title('z-plane',fontsize=20,fontweight='bold')\n",
    "pyplot.grid(True)\n",
    "pyplot.plot(z.real,z.imag);\n",
    "\n",
    "# Task 4\n",
    "tail = numpy.amax(z.real)\n",
    "print('The index of the trailing edge point is',numpy.where(z.real == tail))"
   ]
  },
  {
   "cell_type": "code",
   "execution_count": null,
   "metadata": {
    "collapsed": false
   },
   "outputs": [],
   "source": []
  },
  {
   "cell_type": "markdown",
   "metadata": {},
   "source": [
    "---"
   ]
  },
  {
   "cell_type": "markdown",
   "metadata": {},
   "source": [
    "### Mesh-grid in polar coordinates\n",
    "\n",
    "To visualize the flow in a domain, we should probably create a mesh-grid. Let us do it in polar coordinates in the cylinder-plane ($\\xi$-plane).\n",
    "\n",
    "**List of tasks:**\n",
    "\n",
    "1- Discretize the mesh-grid using $100$ points in the radial direction ($R\\leq r \\leq R+5$) and $61$ points on the surface of the cylinder (from $0$ to $2\\pi$).\n",
    "\n",
    "2- Apply the Karman-Trefftz transformation to obtain the mesh-grid in the airfoil-plane ($z$-plane). (Yes! You can use the function we created above.)\n",
    "\n",
    "3- Plot the mesh-grid in both planes."
   ]
  },
  {
   "cell_type": "code",
   "execution_count": 19,
   "metadata": {
    "collapsed": false
   },
   "outputs": [
    {
     "data": {
      "image/png": "[encoded data removed]",
      "text/plain": [
       "<matplotlib.figure.Figure at 0x7fafcc11c9b0>"
      ]
     },
     "metadata": {},
     "output_type": "display_data"
    }
   ],
   "source": [
    "# Task 1\n",
    "r = numpy.linspace(R,R+5,100) \n",
    "theta = numpy.linspace(0,2*math.pi,61)\n",
    "Rad, Theta = numpy.meshgrid(r,theta)\n",
    "\n",
    "# Task 2\n",
    "xi = Rad*numpy.cos(Theta) + xc + (Rad*numpy.sin(Theta) + yc)*1j\n",
    "z = kt_map(theta_t,b,xi)\n",
    "\n",
    "# Task 3\n",
    "size = 5\n",
    "pyplot.figure(figsize=(2*size,size))\n",
    "pyplot.subplot(121)\n",
    "pyplot.xlim(-6.0,6.0)\n",
    "pyplot.ylim(-6.0,6.0)\n",
    "pyplot.xlabel('Real',fontsize=16)\n",
    "pyplot.ylabel('Imaginary',fontsize=16)\n",
    "pyplot.title(r'$\\xi$-plane',fontsize=20)\n",
    "pyplot.scatter(xi.real,xi.imag,color='k',s=0.5,marker='o')\n",
    "\n",
    "pyplot.subplot(122)\n",
    "pyplot.xlim(-6.0,6.0)\n",
    "pyplot.ylim(-6.0,6.0)\n",
    "pyplot.xlabel('Real',fontsize=16)\n",
    "pyplot.ylabel('Imaginary',fontsize=16)\n",
    "pyplot.title('z-plane',fontsize=20)\n",
    "pyplot.scatter(z.real,z.imag,color='k',s=0.5,marker='o');"
   ]
  },
  {
   "cell_type": "markdown",
   "metadata": {},
   "source": [
    "---"
   ]
  },
  {
   "cell_type": "markdown",
   "metadata": {},
   "source": [
    "### Freestream + doublet = ?\n",
    "\n",
    "We are now going to compute the velocity field around a cylinder in the $\\xi$-plane.\n",
    "\n",
    "As we now know, the inviscid flow around a cylinder (with no circulation) can be represented by the sum of a freestream and a doublet.\n",
    "\n",
    "We will use a freestream with speed $U_\\infty = 1$ and angle of incidence $\\alpha = 0^o$.\n",
    "\n",
    "**List of tasks:**\n",
    "\n",
    "1- What should be the strength of the doublet to represent the flow around a cylinder of radius $R$ immersed in a freestream flow with speed $U_\\infty$?\n",
    "\n",
    "2(a)- Write a function that returns the velocity due to a freestream on a given mesh-grid.\n",
    "\n",
    "2(b)-Write a function that returns the streamfunction due to a freestream on a given mesh-grid.\n",
    "\n",
    "3(a)- Write a function that returns the velocity due to a point-doublet on a given mesh-grid.\n",
    "\n",
    "3(b)- Write a function that returns the streamfunction due to a point-doublet on a given mesh-grid.\n",
    "\n",
    "4- Using those functions, apply the principle of superposition to get the streamfunction and velocity in the cylinder-plane ($\\xi$-plane).\n",
    "\n",
    "5- Plot the streamlines using [`pyplot.contour`](http://matplotlib.org/api/pyplot_api.html?highlight=contour#matplotlib.pyplot.contour) and the velocity field using [`pyplot.quiver()`](http://matplotlib.org/api/pyplot_api.html?highlight=quiver#matplotlib.pyplot.quiver)."
   ]
  },
  {
   "cell_type": "code",
   "execution_count": null,
   "metadata": {
    "collapsed": true
   },
   "outputs": [],
   "source": [
    "# Write your functions in this cells.\n",
    "def get_velocity_doublet(strength,xd,yd,X,Y):\n",
    "    \"\"\"\n",
    "    Returns the velocity field generated by a doublet.\n",
    "    \n",
    "    Parameters\n",
    "    ----------\n",
    "    strength: float\n",
    "        Strength of the doublet.\n",
    "    xd: float\n",
    "        x-coordinate of the doublet.\n",
    "    yd: float\n",
    "        y-coordinate of the doublet.\n",
    "    X: 2D Numpy array of floats\n",
    "        x-coordinate of the mesh points.\n",
    "    Y: 2D Numpy array of floats\n",
    "        y-coordinate of the mesh points.\n",
    "    \n",
    "    Returns\n",
    "    -------\n",
    "    u: 2D Numpy array of floats\n",
    "        x-component of the velocity vector field.\n",
    "    v: 2D Numpy array of floats\n",
    "        y-component of the velocity vector field.\n",
    "    \"\"\"\n",
    "    u = -strength/(2*math.pi)*((X-xd)**2-(Y-yd)**2)/((X-xd)**2+(Y-yd)**2)**2\n",
    "    v = -strength/(2*math.pi)*2*(X-xd)*(Y-yd)/((X-xd)**2+(Y-yd)**2)**2\n",
    "    \n",
    "    return u, v\n",
    "\n",
    "def get_stream_function_doublet(strength,xd,yd,X,Y):\n",
    "    \"\"\"\n",
    "    Returns the stream-function generated by a doublet.\n",
    "    \n",
    "    Parameters\n",
    "    ----------\n",
    "    strength: float\n",
    "        Strength of the doublet.\n",
    "    xd: float\n",
    "        x-coordinate of the doublet.\n",
    "    yd: float\n",
    "        y-coordinate of the doublet.\n",
    "    X: 2D Numpy array of floats\n",
    "        x-coordinate of the mesh points.\n",
    "    Y: 2D Numpy array of floats\n",
    "        y-coordinate of the mesh points.\n",
    "    \n",
    "    Returns\n",
    "    -------\n",
    "    psi: 2D Numpy array of floats\n",
    "        The stream-function.\n",
    "    \"\"\"\n",
    "    psi = -strength/(2*math.pi)*(Y-yd)/((X-xd)**2+(Y-yd)**2)\n",
    "    \n",
    "    return psi"
   ]
  },
  {
   "cell_type": "code",
   "execution_count": null,
   "metadata": {
    "collapsed": false
   },
   "outputs": [],
   "source": [
    "# Use this cell to provide the rest of the code."
   ]
  },
  {
   "cell_type": "markdown",
   "metadata": {},
   "source": [
    "---"
   ]
  },
  {
   "cell_type": "markdown",
   "metadata": {},
   "source": [
    "### Freestream + doublet... Is that enough?\n",
    "\n",
    "Let's use the theory of conformal mapping to obtain the velocity field around the airfoil in the $z$-plane\n",
    "\n",
    "We remember that the complex velocity in the $z$-plane is related to the complex one in the $\\xi$-plane via the following formula:\n",
    "\n",
    "$$W_z = W_\\xi / \\frac{dz}{d\\xi}$$\n",
    "\n",
    "where $W_z = u_z - i v_z$ and $W_\\xi = u_\\xi - iv_\\xi$.\n",
    "\n",
    "The derivative of $z$ with respect to $\\xi$ is:\n",
    "\n",
    "$$\\frac{dz}{d\\xi} = \\frac{4n^2b^2}{\\xi^2 - b^4} \\frac{\\left(1 + \\frac{b^2}{\\xi}\\right)^n \\left(1 - \\frac{b^2}{\\xi}\\right)^n}{\\left[\\left(1 + \\frac{b^2}{\\xi}\\right)^n - \\left(1 - \\frac{b^2}{\\xi}\\right)^n\\right]^2}$$\n",
    "\n",
    "**List of tasks:**\n",
    "\n",
    "1- Write a function that takes the complex coordinates in the $\\xi$-plane as argument and returns the value of the derivative $\\frac{dz}{d\\xi}$.\n",
    "\n",
    "To check your function, here is what we obtained:\n",
    "the function on the point $2.2 + 2.2j$ returns the point $1.00022655827 + 0.0995002428218j$ when using $b=1$ and $theta=5^o$.\n",
    "\n",
    "2- Compute the velocity on the mesh-grid in the airfoil plane ($z-plane$).\n",
    "\n",
    "3- Plot the streamlines and the velocity field in the $z$-plane using the Matplotlib functions [`pyplot.contour()`](http://matplotlib.org/api/pyplot_api.html?highlight=contour#matplotlib.pyplot.contour) and [`pyplot.quiver()`](http://matplotlib.org/api/pyplot_api.html?highlight=quiver#matplotlib.pyplot.quiver), respectively.\n",
    "\n",
    "4- Does the streamlines at the trailing-edge look physical? Why?\n",
    "(You can display a zoom at the trailing-edge to support your answer.)"
   ]
  },
  {
   "cell_type": "code",
   "execution_count": null,
   "metadata": {
    "collapsed": false
   },
   "outputs": [],
   "source": [
    "# Use this cell to write your function."
   ]
  },
  {
   "cell_type": "code",
   "execution_count": null,
   "metadata": {
    "collapsed": false
   },
   "outputs": [],
   "source": [
    "# Use this cell to provide the rest of the code."
   ]
  },
  {
   "cell_type": "markdown",
   "metadata": {},
   "source": [
    "---"
   ]
  },
  {
   "cell_type": "markdown",
   "metadata": {},
   "source": [
    "### Pressure coefficient\n",
    "\n",
    "Let's have a look at the pressure coefficient to check what's going on.\n",
    "\n",
    "**List of tasks:**\n",
    "\n",
    "1- Compute the pressure coefficient and plot its filled contour in both planes using the Matplotlib function [`pyplot.contourf()`](http://matplotlib.org/api/pyplot_api.html?highlight=contourf#matplotlib.pyplot.contourf).\n",
    "\n",
    "2- What is the minimum value of the pressure coefficient on the surface of the airfoil?\n",
    "\n",
    "3- What are the index of the stagnation points?\n",
    "\n",
    "4- The angle of incidence of the freestream is zero, so why is the stagnation point not at the trailing edge?"
   ]
  },
  {
   "cell_type": "code",
   "execution_count": null,
   "metadata": {
    "collapsed": false
   },
   "outputs": [],
   "source": [
    "# Use this cell to write your code."
   ]
  },
  {
   "cell_type": "markdown",
   "metadata": {},
   "source": [
    "---"
   ]
  },
  {
   "cell_type": "markdown",
   "metadata": {},
   "source": [
    "### Kutta condition!\n",
    "\n",
    "We need to satisfy the [Kutta condition](http://en.wikipedia.org/wiki/Kutta_condition),\n",
    ">\"A body with a sharp trailing edge which is moving through a fluid will create about itself a circulation of sufficient strength to hold the rear stagnation point at the trailing edge.\"\n",
    "\n",
    "**List of tasks:**\n",
    "\n",
    "1- Calculate the circulation needed to satisfy the Kutta condition (i.e. to bring the stagnation point to the trailing-edge).\n",
    "\n",
    "2(a)- Write a function that returns the velocity field due to a vortex-point on a given mesh-grid.\n",
    "\n",
    "2(b)- Write a function that returns the streamfunction due to a vortex-point on a given mesh-grid.\n",
    "\n",
    "3- Apply the principle of superposition to take into account the effect of the vortex.\n",
    "\n",
    "4- Compute and plot the streamlines and velocity field in both planes.\n",
    "\n",
    "5- Compute and plot filled contour of pressure coefficient in both planes.\n",
    "\n",
    "6- What are the index of the stagnation points? Is it what you were expecting?"
   ]
  },
  {
   "cell_type": "code",
   "execution_count": null,
   "metadata": {
    "collapsed": true
   },
   "outputs": [],
   "source": [
    "# Use this cell to write your functions."
   ]
  },
  {
   "cell_type": "code",
   "execution_count": null,
   "metadata": {
    "collapsed": false
   },
   "outputs": [],
   "source": [
    "# Use this cell to provide the rest of the code."
   ]
  },
  {
   "cell_type": "markdown",
   "metadata": {},
   "source": [
    "---"
   ]
  },
  {
   "cell_type": "markdown",
   "metadata": {},
   "source": [
    "### What about the lift and drag?\n",
    "\n",
    "The drag is defined as the force felt by the body in the direction of the freestream and the lift as the one normal to the freestream direction.\n",
    "\n",
    "**List of tasks:**\n",
    "\n",
    "1- Assuming a density $\\rho=1$ and a farfield pressure $p_\\infty=0$, calculate the lift in two manners:\n",
    "* using the Kutta-Joukowski theorem,\n",
    "* integrating the pressure along the surface of the cylinder.\n",
    "\n",
    "2- Calculate the drag by integrating the pressure along the surface of the cylinder. What's the value? Is it what you were expecting? Why?"
   ]
  },
  {
   "cell_type": "code",
   "execution_count": null,
   "metadata": {
    "collapsed": false
   },
   "outputs": [],
   "source": [
    "# Use this cell to provide the code."
   ]
  },
  {
   "cell_type": "markdown",
   "metadata": {},
   "source": [
    "---\n",
    "\n",
    "## Second part - Sources and vortices\n",
    "\n",
    "---"
   ]
  },
  {
   "cell_type": "markdown",
   "metadata": {},
   "source": [
    "In the first part of the exam, we have used a conformal mapping and the complex-variable theory to model the flow around an airfoil.\n",
    "\n",
    "Here, we are going to provide you a set of points which represent the previously used Karman-Trefftz airfoil, as well as the source-strength and vortex-strength associated with each point.\n",
    "\n",
    "Your task will be to load those data from a file, compute the velocity field generated by those singularities, and apply the principle of superposition.\n",
    "\n",
    "We are going to use the same freestream conditions: speed $U_\\infty = 1$ with angle of incidence $\\alpha = 0^o$.\n",
    "\n",
    "The file `airfoil_data_midterm.txt` contains $N$ lines (where $N$ is the number of points used to discretize the airfoil) and 4 columns (x-coordinates, y-coordinates, source-strenghts, and vortex-strengths).\n",
    "\n",
    "You are problably wondering how we obtained those source-strenghts and vortex-strengths.\n",
    "Well, they are the solution from a source-vortex panel method that we are going to program during the second part of the semester.\n",
    "\n",
    "**List of tasks:**\n",
    "\n",
    "1- Read the data from the file `airfoil_data_midterm.txt` using the Numpy function [`numpy.loadtxt()`](https://docs.scipy.org/doc/numpy/reference/generated/numpy.loadtxt.html). (You might want to set the keyword argument `unpack` to `True`.)\n",
    "\n",
    "2- Create a $201 \\times 201$ Cartesian mesh-grid that covers the domain $[-2.5, 2.5]\\times[-2.5, 2.5]$.\n",
    "\n",
    "3- Write a function to compute the velocity field due a source-point.\n",
    "\n",
    "4- Compute the velocity field generated by the freestream, the source-points, and the vortex-points and plot the streamlines using the Matplotlib function [`pyplot.streamplot()`](http://matplotlib.org/api/pyplot_api.html?highlight=streamplot#matplotlib.pyplot.streamplot).\n",
    "\n",
    "5- Compute the pressure coefficient on the mesh-grid and plot its filled contour. What are the coordinates of the maximum pressure coefficient?\n",
    "\n",
    "6- Calculate the lift using the Kutta-Joukowski theorem. (Hint: the total circulation corresponds to the sum of all vortex strengths.)"
   ]
  },
  {
   "cell_type": "code",
   "execution_count": null,
   "metadata": {
    "collapsed": true
   },
   "outputs": [],
   "source": [
    "# Write your function in this cell."
   ]
  },
  {
   "cell_type": "code",
   "execution_count": null,
   "metadata": {
    "collapsed": false
   },
   "outputs": [],
   "source": [
    "# Use this cell to provide the rest of the code."
   ]
  }
 ],
 "metadata": {
  "anaconda-cloud": {},
  "kernelspec": {
   "display_name": "Python [conda root]",
   "language": "python",
   "name": "conda-root-py"
  },
  "language_info": {
   "codemirror_mode": {
    "name": "ipython",
    "version": 3
   },
   "file_extension": ".py",
   "mimetype": "text/x-python",
   "name": "python",
   "nbconvert_exporter": "python",
   "pygments_lexer": "ipython3",
   "version": "3.5.2"
  }
 },
 "nbformat": 4,
 "nbformat_minor": 0
}
