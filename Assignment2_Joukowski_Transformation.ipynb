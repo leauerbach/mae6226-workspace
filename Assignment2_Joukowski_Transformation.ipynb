{
 "cells": [
  {
   "cell_type": "markdown",
   "metadata": {},
   "source": [
    "# Assignment 2: Joukowski Transformation\n",
    "## 1. Complex numbers in Python"
   ]
  },
  {
   "cell_type": "code",
   "execution_count": 1,
   "metadata": {
    "collapsed": true
   },
   "outputs": [],
   "source": [
    "import numpy\n",
    "import math\n",
    "from matplotlib import pyplot\n",
    "\n",
    "%matplotlib inline\n",
    "%run ./definitions.ipynb"
   ]
  },
  {
   "cell_type": "code",
   "execution_count": 2,
   "metadata": {
    "collapsed": false
   },
   "outputs": [
    {
     "name": "stdout",
     "output_type": "stream",
     "text": [
      "z =  (3+3j)\n",
      "The type of variable is  <class 'complex'>\n"
     ]
    }
   ],
   "source": [
    "a = 3\n",
    "b = 3\n",
    "z = a + b*1j\n",
    "print('z = ',z)\n",
    "print('The type of variable is ',type(z))"
   ]
  },
  {
   "cell_type": "markdown",
   "metadata": {},
   "source": [
    "### Exercises:"
   ]
  },
  {
   "cell_type": "code",
   "execution_count": 3,
   "metadata": {
    "collapsed": false
   },
   "outputs": [
    {
     "name": "stdout",
     "output_type": "stream",
     "text": [
      "1.  (46.1322+14.692000000000004j)\n",
      "2.  (0.799270785858-1.1494199454j)\n",
      "3.  (-0.4880897698448308-1.0033441577191493j)\n"
     ]
    }
   ],
   "source": [
    "ans1 = (2.75 + 3.69*1j) * (8.55 - 6.13*1j)\n",
    "ans2 = 1.4 * numpy.exp(5.32*1j)\n",
    "ans3 = (7.51 - 9.15*1j)/(4.43 + 9.64*1j)\n",
    "print('1. ',ans1)\n",
    "print('2. ',ans2)\n",
    "print('3. ',ans3)"
   ]
  },
  {
   "cell_type": "markdown",
   "metadata": {
    "collapsed": true
   },
   "source": [
    "## 2. Shapes created by the Joukowski Transform"
   ]
  },
  {
   "cell_type": "code",
   "execution_count": 30,
   "metadata": {
    "collapsed": false,
    "scrolled": true
   },
   "outputs": [
    {
     "ename": "SyntaxError",
     "evalue": "positional argument follows keyword argument (<ipython-input-30-1a7571b32554>, line 7)",
     "output_type": "error",
     "traceback": [
      "\u001b[0;36m  File \u001b[0;32m\"<ipython-input-30-1a7571b32554>\"\u001b[0;36m, line \u001b[0;32m7\u001b[0m\n\u001b[0;31m    pyplot.figure(figsize=size,size)\u001b[0m\n\u001b[0m                              ^\u001b[0m\n\u001b[0;31mSyntaxError\u001b[0m\u001b[0;31m:\u001b[0m positional argument follows keyword argument\n"
     ]
    }
   ],
   "source": [
    "r = 1\n",
    "theta = numpy.linspace(0,2*math.pi,100)\n",
    "z_circ = r*numpy.cos(theta) + r*numpy.sin(theta)*1j\n",
    "\n",
    "size = 10\n",
    "pyplot.plot(z_circ.real,z_circ.imag);\n",
    "pyplot.figure(figsize=size,size)"
   ]
  },
  {
   "cell_type": "code",
   "execution_count": 20,
   "metadata": {
    "collapsed": true
   },
   "outputs": [],
   "source": [
    "def joukowski(z,c):\n",
    "    zeta = z + c**2/z\n",
    "    \n",
    "    return zeta"
   ]
  },
  {
   "cell_type": "code",
   "execution_count": 22,
   "metadata": {
    "collapsed": false
   },
   "outputs": [
    {
     "data": {
      "text/plain": [
       "(-1, 1)"
      ]
     },
     "execution_count": 22,
     "metadata": {},
     "output_type": "execute_result"
    },
    {
     "data": {
      "image/png": "[encoded data removed]",
      "text/plain": [
       "<matplotlib.figure.Figure at 0x7fdcc2541dd8>"
      ]
     },
     "metadata": {},
     "output_type": "display_data"
    }
   ],
   "source": [
    "c = 1\n",
    "zeta = joukowski(z_circ,c)\n",
    "\n",
    "chi = zeta.real\n",
    "eta = zeta.imag\n",
    "\n",
    "pyplot.plot(chi,eta);\n",
    "pyplot.ylim(-1,1)"
   ]
  },
  {
   "cell_type": "code",
   "execution_count": 27,
   "metadata": {
    "collapsed": false
   },
   "outputs": [
    {
     "data": {
      "text/plain": [
       "(-1, 1)"
      ]
     },
     "execution_count": 27,
     "metadata": {},
     "output_type": "execute_result"
    },
    {
     "data": {
      "image/png": "[encoded data removed]",
      "text/plain": [
       "<matplotlib.figure.Figure at 0x7fdcc21f9588>"
      ]
     },
     "metadata": {},
     "output_type": "display_data"
    }
   ],
   "source": [
    "r = 1.2\n",
    "c = 1\n",
    "xc = c-r\n",
    "yc = 0\n",
    "\n",
    "z_circ = r*numpy.cos(theta) + xc + (r*numpy.sin(theta) + yc)*1j\n",
    "zeta = joukowski(z_circ,c)\n",
    "\n",
    "pyplot.plot(zeta.real,zeta.imag)\n",
    "pyplot.ylim(-1,1)"
   ]
  },
  {
   "cell_type": "code",
   "execution_count": 28,
   "metadata": {
    "collapsed": false
   },
   "outputs": [
    {
     "data": {
      "text/plain": [
       "[<matplotlib.lines.Line2D at 0x7fdcc21373c8>]"
      ]
     },
     "execution_count": 28,
     "metadata": {},
     "output_type": "execute_result"
    },
    {
     "data": {
      "image/png": "[encoded data removed]",
      "text/plain": [
       "<matplotlib.figure.Figure at 0x7fdcc2536e80>"
      ]
     },
     "metadata": {},
     "output_type": "display_data"
    }
   ],
   "source": [
    "pyplot.plot(z_circ.real,z_circ.imag)"
   ]
  },
  {
   "cell_type": "code",
   "execution_count": null,
   "metadata": {
    "collapsed": true
   },
   "outputs": [],
   "source": []
  }
 ],
 "metadata": {
  "anaconda-cloud": {},
  "kernelspec": {
   "display_name": "Python [conda root]",
   "language": "python",
   "name": "conda-root-py"
  },
  "language_info": {
   "codemirror_mode": {
    "name": "ipython",
    "version": 3
   },
   "file_extension": ".py",
   "mimetype": "text/x-python",
   "name": "python",
   "nbconvert_exporter": "python",
   "pygments_lexer": "ipython3",
   "version": "3.5.2"
  }
 },
 "nbformat": 4,
 "nbformat_minor": 1
}
